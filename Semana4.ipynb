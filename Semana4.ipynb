{
  "nbformat_minor": 0,
  "cells": [
    {
      "source": [
        "<h1 align=center><font size = 6>Segmenting and Clustering</font></h1>\n",
        "\n",
        "<h1 align=center><font size = 12>Neighborhoods in Toronto</font></h1>\n"
      ],
      "cell_type": "markdown",
      "metadata": {
        "id": "cjl-Zu8-uj6N"
      }
    },
    {
      "source": [
        "\n",
        "# Peer-graded Assignment: Github_Segmenting and Clustering Neighborhoods in Toronto_Linda\n",
        "\n",
        "#### In addion to the github repository with the full notebook, data set and html outputs of the maps, zipped: \n",
        "\n",
        "\n",
        "#### Here’s a link to the full notebook on Watson: \n",
        "\n",
        "\n",
        "\n",
        "# Table of Contents\n",
        "\n",
        "Question 1: \n",
        "\n",
        "1.1. Notebook book created\n",
        "\n",
        "1.2. Web page scraped\n",
        "\n",
        "1.3. Data transformed into pandas dataframe \n",
        "\n",
        "#### 1.4. Dataframe cleaned and notebook annotate\n",
        "\n",
        "## 1.5. Q1_notebook on Github repository. (10 marks)\n",
        "\n",
        "\n",
        "Question 2: \n",
        "\n",
        "2.1. Used the Geocoder Package to get the coordinates of a few neighborhoods\n",
        "\n",
        "#### 2.2. Used the csv file to create the requested dataframe \n",
        "\n",
        "## 2.2. Q2_ notebook on Github repository. (2 marks)\n",
        "\n",
        "\n",
        "\n"
      ],
      "cell_type": "markdown",
      "metadata": {
        "id": "_YzAcmENuj6S"
      }
    },
    {
      "source": [
        "<h1 align=center><font size = 8>...</font></h1>\n",
        "\n"
      ],
      "cell_type": "markdown",
      "metadata": {
        "id": "6-XWXY7Buj6S"
      }
    },
    {
      "source": [
        "## Question 1: \n",
        "\n",
        "### 1.1. Notebook book created\n",
        "\n",
        "with the basic dependencies."
      ],
      "cell_type": "markdown",
      "metadata": {
        "id": "j_R-rRMGuj6T"
      }
    },
    {
      "execution_count": null,
      "cell_type": "code",
      "metadata": {
        "id": "yDBwo-Ytuj6T",
        "outputId": "d1145eec-029e-41b5-956c-b4ae96f543ad"
      },
      "outputs": [
        {
          "output_type": "stream",
          "name": "stdout",
          "text": "Libraries imported.\n"
        }
      ],
      "source": [
        "import numpy as np # library to handle data in a vectorized manner\n",
        "import pandas as pd # library for data analsysis\n",
        "import requests # Library for web scraping\n",
        "\n",
        "print('Libraries imported.')"
      ]
    },
    {
      "source": [
        "### 1.2. Web page scraped\n"
      ],
      "cell_type": "markdown",
      "metadata": {
        "id": "BbJm3G-Puj6U"
      }
    },
    {
      "source": [
        "About the Data, Wikipedia page, https://en.wikipedia.org/wiki/List_of_postal_codes_of_Canada:_M, \n",
        "- is a list of postal codes in Canada where the first letter is M. Postal codes beginning with M are located within the city of Toronto in the province of Ontario. \n",
        "\n",
        "- Scraping table from HTML using BeautifulSoup, write a Python program similar to scrape.py,from:\n",
        "\n",
        "##### Corey Schafer Python Programming Tutorial:\n",
        "The code from this video can be found at: https://github.com/CoreyMSchafer/code...\n",
        "\n",
        "\n"
      ],
      "cell_type": "markdown",
      "metadata": {
        "id": "XLx1Lwg9uj6U"
      }
    },
    {
      "execution_count": null,
      "cell_type": "code",
      "metadata": {
        "id": "CjwAX7-Fuj6U",
        "outputId": "0adc1201-5ebe-4f2d-90b2-cf62d2953109"
      },
      "outputs": [
        {
          "output_type": "stream",
          "name": "stdout",
          "text": "BeautifulSoup  & csv imported.\n"
        }
      ],
      "source": [
        "# To run this, you can install BeautifulSoup\n",
        "# https://pypi.python.org/pypi/beautifulsoup4\n",
        "\n",
        "# Or download the file\n",
        "# http://beautiful-soup-4\n",
        "# and unzip it in the same directory as this file\n",
        "import requests\n",
        "from urllib.request import urlopen\n",
        "from bs4 import BeautifulSoup\n",
        "import ssl\n",
        "import csv\n",
        "\n",
        "print('BeautifulSoup  & csv imported.')"
      ]
    },
    {
      "execution_count": null,
      "cell_type": "code",
      "metadata": {
        "id": "0-znB420uj6V",
        "outputId": "9d43057d-eca7-4090-98ab-270b21fcca7d"
      },
      "outputs": [
        {
          "output_type": "stream",
          "name": "stdout",
          "text": "SSL certificate errors ignored.\n"
        }
      ],
      "source": [
        "# Ignore SSL certificate errors\n",
        "ctx = ssl.create_default_context()\n",
        "ctx.check_hostname = False\n",
        "ctx.verify_mode = ssl.CERT_NONE\n",
        "\n",
        "print('SSL certificate errors ignored.')"
      ]
    },
    {
      "execution_count": null,
      "cell_type": "code",
      "metadata": {
        "id": "wNZ_B3Rwuj6V",
        "outputId": "a9761b83-49ca-4da1-beac-ee00169a6e6d"
      },
      "outputs": [
        {
          "output_type": "stream",
          "name": "stdout",
          "text": "soup ready\n"
        }
      ],
      "source": [
        "source = requests.get('https://en.wikipedia.org/wiki/List_of_postal_codes_of_Canada:_M').text\n",
        "\n",
        "soup = BeautifulSoup(source, 'lxml')\n",
        "\n",
        "#print(soup.prettify())\n",
        "print('soup ready')"
      ]
    },
    {
      "execution_count": null,
      "cell_type": "code",
      "metadata": {
        "id": "Y5ng5at1uj6V"
      },
      "outputs": [],
      "source": [
        "table = soup.find('table',{'class':'wikitable sortable'})\n",
        "#table"
      ]
    },
    {
      "execution_count": null,
      "cell_type": "code",
      "metadata": {
        "id": "gakciKdkuj6W"
      },
      "outputs": [],
      "source": [
        "\n",
        "table_rows = table.find_all('tr')\n",
        "\n",
        "#table_rows"
      ]
    },
    {
      "execution_count": null,
      "cell_type": "code",
      "metadata": {
        "id": "HLOG9R0Guj6W"
      },
      "outputs": [],
      "source": [
        "data = []\n",
        "for row in table_rows:\n",
        "    data.append([t.text.strip() for t in row.find_all('td')])\n",
        "\n",
        "df = pd.DataFrame(data, columns=['PostalCode', 'Borough', 'Neighbourhood'])\n",
        "df = df[~df['PostalCode'].isnull()]  # to filter out bad rows\n",
        "\n",
        "#print(df.head(5))\n",
        "#print('***')\n",
        "#print(df.tail(5))"
      ]
    },
    {
      "source": [
        "### 1.3. Data transformed into pandas dataframe \n"
      ],
      "cell_type": "markdown",
      "metadata": {
        "id": "hVWA-KLPuj6W"
      }
    },
    {
      "execution_count": null,
      "cell_type": "code",
      "metadata": {
        "id": "BNbKEMFWuj6W",
        "outputId": "672c86f7-7f86-4cb6-bbbd-a0a47e910e2e"
      },
      "outputs": [
        {
          "output_type": "stream",
          "name": "stdout",
          "text": "<class 'pandas.core.frame.DataFrame'>\nInt64Index: 288 entries, 1 to 288\nData columns (total 3 columns):\nPostalCode       288 non-null object\nBorough          288 non-null object\nNeighbourhood    288 non-null object\ndtypes: object(3)\nmemory usage: 9.0+ KB\n"
        }
      ],
      "source": [
        "df.info()"
      ]
    },
    {
      "execution_count": null,
      "cell_type": "code",
      "metadata": {
        "id": "oOu2GAQ9uj6W",
        "outputId": "32cc9270-e5e7-4e52-f8b5-b38b6752cf13"
      },
      "outputs": [
        {
          "execution_count": 9,
          "metadata": {},
          "data": {
            "text/plain": "(288, 3)"
          },
          "output_type": "execute_result"
        }
      ],
      "source": [
        "df.shape"
      ]
    },
    {
      "source": [
        "### 1.4. Dataframe cleaned and notebook annotate\n"
      ],
      "cell_type": "markdown",
      "metadata": {
        "id": "hSTVV8JQuj6W"
      }
    },
    {
      "source": [
        "Only process the cells that have an assigned borough, we can ignore cells with 'Not assigned' boroughs, like in rows 1 & 2."
      ],
      "cell_type": "markdown",
      "metadata": {
        "id": "EYTxLqQkuj6W"
      }
    },
    {
      "execution_count": null,
      "cell_type": "code",
      "metadata": {
        "id": "9FNbjBVcuj6X"
      },
      "outputs": [],
      "source": [
        "import pandas\n",
        "import requests\n",
        "from bs4 import BeautifulSoup\n",
        "website_text = requests.get('https://en.wikipedia.org/wiki/List_of_postal_codes_of_Canada:_M').text\n",
        "soup = BeautifulSoup(website_text,'lxml')\n",
        "\n",
        "table = soup.find('table',{'class':'wikitable sortable'})\n",
        "table_rows = table.find_all('tr')\n",
        "\n",
        "data = []\n",
        "for row in table_rows:\n",
        "    data.append([t.text.strip() for t in row.find_all('td')])\n",
        "\n",
        "df = pandas.DataFrame(data, columns=['PostalCode', 'Borough', 'Neighbourhood'])\n",
        "df = df[~df['PostalCode'].isnull()]  # to filter out bad rows\n",
        "\n",
        "#df.head(15)"
      ]
    },
    {
      "execution_count": null,
      "cell_type": "code",
      "metadata": {
        "id": "dIbfymtquj6X"
      },
      "outputs": [],
      "source": [
        "\n",
        "df.drop(df[df['Borough']==\"Not assigned\"].index,axis=0, inplace=True)\n",
        "#df.head()"
      ]
    },
    {
      "source": [
        "The dataframe can be reindex as follows:"
      ],
      "cell_type": "markdown",
      "metadata": {
        "id": "snISVoluuj6X"
      }
    },
    {
      "execution_count": null,
      "cell_type": "code",
      "metadata": {
        "id": "QU3eU3GLuj6X"
      },
      "outputs": [],
      "source": [
        "df1 = df.reset_index()\n",
        "#df1.head()"
      ]
    },
    {
      "execution_count": null,
      "cell_type": "code",
      "metadata": {
        "id": "Mh19lM85uj6X",
        "outputId": "4ec153e6-68df-4759-ee46-3de54a35c9a1"
      },
      "outputs": [
        {
          "output_type": "stream",
          "name": "stdout",
          "text": "<class 'pandas.core.frame.DataFrame'>\nRangeIndex: 211 entries, 0 to 210\nData columns (total 4 columns):\nindex            211 non-null int64\nPostalCode       211 non-null object\nBorough          211 non-null object\nNeighbourhood    211 non-null object\ndtypes: int64(1), object(3)\nmemory usage: 6.7+ KB\n"
        }
      ],
      "source": [
        "df1.info()"
      ]
    },
    {
      "execution_count": null,
      "cell_type": "code",
      "metadata": {
        "id": "BEhq71ycuj6X",
        "outputId": "7ae5c1f5-9b10-4e37-a7e7-6ef87991c826"
      },
      "outputs": [
        {
          "execution_count": 14,
          "metadata": {},
          "data": {
            "text/plain": "(211, 4)"
          },
          "output_type": "execute_result"
        }
      ],
      "source": [
        "df1.shape"
      ]
    },
    {
      "source": [
        "More than one neighborhood can exist in one postal code area, M5A is listed twice and has two neighborhoods Harbourfront and Regent Park. These two rows will be combined into one row with the neighborhoods separated with a comma using groupby, see: \n",
        "\n",
        "https://pandas-docs.github.io/pandas-docs-travis/user_guide/groupby.html\n"
      ],
      "cell_type": "markdown",
      "metadata": {
        "id": "JZV4UCJJuj6X"
      }
    },
    {
      "execution_count": null,
      "cell_type": "code",
      "metadata": {
        "id": "ALwPHvBLuj6X"
      },
      "outputs": [],
      "source": [
        "df2= df1.groupby('PostalCode').agg(lambda x: ','.join(x))\n",
        "\n",
        "#df2.head()\n",
        "       "
      ]
    },
    {
      "execution_count": null,
      "cell_type": "code",
      "metadata": {
        "id": "JqAQKYMxuj6Y",
        "outputId": "24fb3924-280d-4e2e-c1cd-2dabeda47b7e"
      },
      "outputs": [
        {
          "output_type": "stream",
          "name": "stdout",
          "text": "<class 'pandas.core.frame.DataFrame'>\nIndex: 103 entries, M1B to M9W\nData columns (total 2 columns):\nBorough          103 non-null object\nNeighbourhood    103 non-null object\ndtypes: object(2)\nmemory usage: 2.4+ KB\n"
        }
      ],
      "source": [
        "df2.info()"
      ]
    },
    {
      "execution_count": null,
      "cell_type": "code",
      "metadata": {
        "id": "PmI_I9Couj6Y",
        "outputId": "dbba0fc8-5a8a-4d5b-8317-420fb4c03b92"
      },
      "outputs": [
        {
          "execution_count": 17,
          "metadata": {},
          "data": {
            "text/plain": "(103, 2)"
          },
          "output_type": "execute_result"
        }
      ],
      "source": [
        "df2.shape"
      ]
    },
    {
      "source": [
        "There are also cells that have an assigned neighbouhoods,like M7A, lets assign their boroughs as their neighbourhood, as follows:"
      ],
      "cell_type": "markdown",
      "metadata": {
        "id": "8avxopJbuj6Y"
      }
    },
    {
      "execution_count": null,
      "cell_type": "code",
      "metadata": {
        "id": "WIY4rdO5uj6Y"
      },
      "outputs": [],
      "source": [
        "\n",
        "df2.loc[df2['Neighbourhood']==\"Not assigned\",'Neighbourhood']=df2.loc[df2['Neighbourhood']==\"Not assigned\",'Borough']\n",
        "\n",
        "#df2.head()\n",
        "\n"
      ]
    },
    {
      "execution_count": null,
      "cell_type": "code",
      "metadata": {
        "id": "SFZIfeaiuj6Y"
      },
      "outputs": [],
      "source": [
        "df3 = df2.reset_index()\n",
        "#df3.head()"
      ]
    },
    {
      "source": [
        "Now we can remove the duplicate boroughts as follows:"
      ],
      "cell_type": "markdown",
      "metadata": {
        "id": "4JLr_LM6uj6Y"
      }
    },
    {
      "execution_count": null,
      "cell_type": "code",
      "metadata": {
        "id": "SYkh1Gc5uj6Y"
      },
      "outputs": [],
      "source": [
        "df3['Borough']= df3['Borough'].str.replace('nan|[{}\\s]','').str.split(',').apply(set).str.join(',').str.strip(',').str.replace(\",{2,}\",\",\")"
      ]
    },
    {
      "execution_count": null,
      "cell_type": "code",
      "metadata": {
        "id": "6TxG8xmIuj6Y",
        "outputId": "9a0a2885-3637-4aea-8e2e-00e62c8a2688"
      },
      "outputs": [
        {
          "execution_count": 21,
          "metadata": {},
          "data": {
            "text/html": "<div>\n<style scoped>\n    .dataframe tbody tr th:only-of-type {\n        vertical-align: middle;\n    }\n\n    .dataframe tbody tr th {\n        vertical-align: top;\n    }\n\n    .dataframe thead th {\n        text-align: right;\n    }\n</style>\n<table border=\"1\" class=\"dataframe\">\n  <thead>\n    <tr style=\"text-align: right;\">\n      <th></th>\n      <th>PostalCode</th>\n      <th>Borough</th>\n      <th>Neighbourhood</th>\n    </tr>\n  </thead>\n  <tbody>\n    <tr>\n      <th>0</th>\n      <td>M1B</td>\n      <td>Scarborough</td>\n      <td>Rouge,Malvern</td>\n    </tr>\n    <tr>\n      <th>1</th>\n      <td>M1C</td>\n      <td>Scarborough</td>\n      <td>Highland Creek,Rouge Hill,Port Union</td>\n    </tr>\n    <tr>\n      <th>2</th>\n      <td>M1E</td>\n      <td>Scarborough</td>\n      <td>Guildwood,Morningside,West Hill</td>\n    </tr>\n    <tr>\n      <th>3</th>\n      <td>M1G</td>\n      <td>Scarborough</td>\n      <td>Woburn</td>\n    </tr>\n    <tr>\n      <th>4</th>\n      <td>M1H</td>\n      <td>Scarborough</td>\n      <td>Cedarbrae</td>\n    </tr>\n  </tbody>\n</table>\n</div>",
            "text/plain": "  PostalCode      Borough                         Neighbourhood\n0        M1B  Scarborough                         Rouge,Malvern\n1        M1C  Scarborough  Highland Creek,Rouge Hill,Port Union\n2        M1E  Scarborough       Guildwood,Morningside,West Hill\n3        M1G  Scarborough                                Woburn\n4        M1H  Scarborough                             Cedarbrae"
          },
          "output_type": "execute_result"
        }
      ],
      "source": [
        "df3.head()"
      ]
    },
    {
      "execution_count": null,
      "cell_type": "code",
      "metadata": {
        "id": "r8PgMb_Buj6Y",
        "outputId": "7113680e-6170-4b8a-a65a-44af059e5e74"
      },
      "outputs": [
        {
          "output_type": "stream",
          "name": "stdout",
          "text": "<class 'pandas.core.frame.DataFrame'>\nRangeIndex: 103 entries, 0 to 102\nData columns (total 3 columns):\nPostalCode       103 non-null object\nBorough          103 non-null object\nNeighbourhood    103 non-null object\ndtypes: object(3)\nmemory usage: 2.5+ KB\n"
        }
      ],
      "source": [
        "df3.info()"
      ]
    },
    {
      "execution_count": null,
      "cell_type": "code",
      "metadata": {
        "id": "uvY2Abesuj6Y",
        "outputId": "32284dc8-ce54-4351-84fd-104cefd08729"
      },
      "outputs": [
        {
          "execution_count": 23,
          "metadata": {},
          "data": {
            "text/plain": "(103, 3)"
          },
          "output_type": "execute_result"
        }
      ],
      "source": [
        "df3.shape"
      ]
    },
    {
      "source": [
        "\n",
        "## 1.5. Q1_notebook on Github repository. (10 marks)"
      ],
      "cell_type": "markdown",
      "metadata": {
        "id": "0HamWTlGuj6Y"
      }
    },
    {
      "source": [
        "# Question 2: \n",
        "\n",
        "## 2.1. Used the Geocoder Package to get the coordinates of a few neighborhoods\n",
        "\n"
      ],
      "cell_type": "markdown",
      "metadata": {
        "id": "h0hZAnBVuj6Y"
      }
    },
    {
      "execution_count": null,
      "cell_type": "code",
      "metadata": {
        "id": "OYQueMZvuj6Z",
        "outputId": "9f433f0c-65e4-4657-bddc-899996f015b9"
      },
      "outputs": [
        {
          "output_type": "stream",
          "name": "stdout",
          "text": "Requirement already satisfied: geopy in /home/jupyterlab/conda/lib/python3.6/site-packages (1.11.0)\nNote: you may need to restart the kernel to use updated packages.\n"
        }
      ],
      "source": [
        "pip install geopy"
      ]
    },
    {
      "execution_count": null,
      "cell_type": "code",
      "metadata": {
        "id": "70OeHeWYuj6Z",
        "outputId": "0182366b-7f68-4763-ad42-5dac9c60d45e"
      },
      "outputs": [
        {
          "output_type": "stream",
          "name": "stdout",
          "text": "latitude is :- 51.5073219 \nlongtitude is:- -0.1276474\n"
        }
      ],
      "source": [
        "from  geopy.geocoders import Nominatim\n",
        "geolocator = Nominatim()\n",
        "city =\"London\"\n",
        "country =\"Uk\"\n",
        "loc = geolocator.geocode(city+','+ country)\n",
        "print(\"latitude is :-\" ,loc.latitude,\"\\nlongtitude is:-\" ,loc.longitude)"
      ]
    },
    {
      "execution_count": null,
      "cell_type": "code",
      "metadata": {
        "id": "kwNUvbSxuj6Z",
        "outputId": "4697840e-20b6-4731-b9d2-f934389108b6"
      },
      "outputs": [
        {
          "output_type": "stream",
          "name": "stdout",
          "text": "Parkwoods Village Drive, Parkway East, Don Valley East, North York, Toronto, Ontario, M3A 1Z5, Canada\n\n(43.7611243, -79.3240594)\n\n{'place_id': 112261812, 'licence': 'Data © OpenStreetMap contributors, ODbL 1.0. https://osm.org/copyright', 'osm_type': 'way', 'osm_id': 160406962, 'boundingbox': ['43.761106', '43.7612191', '-79.3242996', '-79.3239088'], 'lat': '43.7611243', 'lon': '-79.3240594', 'display_name': 'Parkwoods Village Drive, Parkway East, Don Valley East, North York, Toronto, Ontario, M3A 1Z5, Canada', 'class': 'highway', 'type': 'secondary', 'importance': 0.51}\n"
        }
      ],
      "source": [
        "from  geopy.geocoders import Nominatim\n",
        "geolocator = Nominatim()\n",
        "location = geolocator.geocode(\"Toronto, North York, Parkwoods\")\n",
        "\n",
        "print(location.address)\n",
        "print('')\n",
        "print((location.latitude, location.longitude))\n",
        "print('')\n",
        "print(location.raw)\n"
      ]
    },
    {
      "execution_count": null,
      "cell_type": "code",
      "metadata": {
        "id": "S_tmjKvZuj6Z"
      },
      "outputs": [],
      "source": [
        "import pandas as pd\n",
        "#df3.head()"
      ]
    },
    {
      "execution_count": null,
      "cell_type": "code",
      "metadata": {
        "id": "WKq2vUTAuj6Z"
      },
      "outputs": [],
      "source": [
        "\n",
        "import pandas as pd\n",
        "df_geopy = pd.DataFrame({'PostalCode': ['M3A', 'M4A', 'M5A'],\n",
        "                         'Borough': ['North York', 'North York', 'Downtown Toronto'],\n",
        "                         'Neighbourhood': ['Parkwoods', 'Victoria Village', 'Harbourfront'],})\n",
        "\n",
        "from geopy.geocoders import Nominatim\n",
        "geolocator = Nominatim()\n",
        "\n"
      ]
    },
    {
      "execution_count": null,
      "cell_type": "code",
      "metadata": {
        "id": "rsjJ775zuj6Z"
      },
      "outputs": [],
      "source": [
        "df_geopy1 = df3\n",
        "#df_geopy1"
      ]
    },
    {
      "execution_count": null,
      "cell_type": "code",
      "metadata": {
        "id": "yN_2if4Auj6Z",
        "outputId": "86342969-2aa0-4d0b-9859-f000dcafca87"
      },
      "outputs": [
        {
          "execution_count": 30,
          "metadata": {},
          "data": {
            "text/html": "<div>\n<style scoped>\n    .dataframe tbody tr th:only-of-type {\n        vertical-align: middle;\n    }\n\n    .dataframe tbody tr th {\n        vertical-align: top;\n    }\n\n    .dataframe thead th {\n        text-align: right;\n    }\n</style>\n<table border=\"1\" class=\"dataframe\">\n  <thead>\n    <tr style=\"text-align: right;\">\n      <th></th>\n      <th>PostalCode</th>\n      <th>Borough</th>\n      <th>Neighbourhood</th>\n      <th>address</th>\n    </tr>\n  </thead>\n  <tbody>\n    <tr>\n      <th>0</th>\n      <td>M1B</td>\n      <td>Scarborough</td>\n      <td>Rouge,Malvern</td>\n      <td>M1B, Scarborough, Rouge,Malvern</td>\n    </tr>\n    <tr>\n      <th>1</th>\n      <td>M1C</td>\n      <td>Scarborough</td>\n      <td>Highland Creek,Rouge Hill,Port Union</td>\n      <td>M1C, Scarborough, Highland Creek,Rouge Hill,Po...</td>\n    </tr>\n    <tr>\n      <th>2</th>\n      <td>M1E</td>\n      <td>Scarborough</td>\n      <td>Guildwood,Morningside,West Hill</td>\n      <td>M1E, Scarborough, Guildwood,Morningside,West Hill</td>\n    </tr>\n    <tr>\n      <th>3</th>\n      <td>M1G</td>\n      <td>Scarborough</td>\n      <td>Woburn</td>\n      <td>M1G, Scarborough, Woburn</td>\n    </tr>\n    <tr>\n      <th>4</th>\n      <td>M1H</td>\n      <td>Scarborough</td>\n      <td>Cedarbrae</td>\n      <td>M1H, Scarborough, Cedarbrae</td>\n    </tr>\n  </tbody>\n</table>\n</div>",
            "text/plain": "  PostalCode      Borough                         Neighbourhood  \\\n0        M1B  Scarborough                         Rouge,Malvern   \n1        M1C  Scarborough  Highland Creek,Rouge Hill,Port Union   \n2        M1E  Scarborough       Guildwood,Morningside,West Hill   \n3        M1G  Scarborough                                Woburn   \n4        M1H  Scarborough                             Cedarbrae   \n\n                                             address  \n0                    M1B, Scarborough, Rouge,Malvern  \n1  M1C, Scarborough, Highland Creek,Rouge Hill,Po...  \n2  M1E, Scarborough, Guildwood,Morningside,West Hill  \n3                           M1G, Scarborough, Woburn  \n4                        M1H, Scarborough, Cedarbrae  "
          },
          "output_type": "execute_result"
        }
      ],
      "source": [
        "from geopy.geocoders import Nominatim\n",
        "geolocator = Nominatim()\n",
        "\n",
        "df_geopy1['address'] = df3[['PostalCode', 'Borough', 'Neighbourhood']].apply(lambda x: ', '.join(x), axis=1 )\n",
        "df_geopy1.head()"
      ]
    },
    {
      "execution_count": null,
      "cell_type": "code",
      "metadata": {
        "id": "5SlvGfDPuj6Z"
      },
      "outputs": [],
      "source": [
        "df_geopy1 = df3"
      ]
    },
    {
      "execution_count": null,
      "cell_type": "code",
      "metadata": {
        "id": "bAmDXPfkuj6Z",
        "outputId": "1d8bfef7-c8d3-4f78-c406-13cc7ccf9ea7"
      },
      "outputs": [
        {
          "execution_count": 32,
          "metadata": {},
          "data": {
            "text/plain": "(103, 4)"
          },
          "output_type": "execute_result"
        }
      ],
      "source": [
        "df_geopy1.shape\n"
      ]
    },
    {
      "execution_count": null,
      "cell_type": "code",
      "metadata": {
        "id": "RpC1CfrMuj6Z",
        "outputId": "edbd1091-8d6b-421c-baac-1aa2138b7152"
      },
      "outputs": [
        {
          "output_type": "stream",
          "name": "stdout",
          "text": "<class 'pandas.core.frame.DataFrame'>\nRangeIndex: 103 entries, 0 to 102\nData columns (total 4 columns):\nPostalCode       103 non-null object\nBorough          103 non-null object\nNeighbourhood    103 non-null object\naddress          103 non-null object\ndtypes: object(4)\nmemory usage: 3.3+ KB\n"
        }
      ],
      "source": [
        "df_geopy1.info()"
      ]
    },
    {
      "execution_count": null,
      "cell_type": "code",
      "metadata": {
        "id": "ZEMHz0gxuj6Z",
        "outputId": "5e23f523-6a8e-4b47-9f8c-e78b7ab41b34"
      },
      "outputs": [
        {
          "output_type": "stream",
          "name": "stdout",
          "text": "<class 'pandas.core.frame.DataFrame'>\nInt64Index: 103 entries, 0 to 102\nData columns (total 4 columns):\nPostalCode       103 non-null object\nBorough          103 non-null object\nNeighbourhood    103 non-null object\naddress          103 non-null object\ndtypes: object(4)\nmemory usage: 4.0+ KB\n"
        }
      ],
      "source": [
        "df_geopy1.drop(df_geopy1[df_geopy1['Borough']==\"Notassigned\"].index,axis=0, inplace=True)\n",
        "#df_geopy1\n",
        "# code holds true up until i=102\n",
        "df_geopy1.info()\n"
      ]
    },
    {
      "execution_count": null,
      "cell_type": "code",
      "metadata": {
        "id": "7Gh5R48Xuj6a"
      },
      "outputs": [],
      "source": [
        "#df_geopy1.head()\n"
      ]
    },
    {
      "execution_count": null,
      "cell_type": "code",
      "metadata": {
        "id": "B64wRpkXuj6a",
        "outputId": "534ab3b2-788a-4574-97ed-45e31f3d9774"
      },
      "outputs": [
        {
          "execution_count": 36,
          "metadata": {},
          "data": {
            "text/plain": "(103, 4)"
          },
          "output_type": "execute_result"
        }
      ],
      "source": [
        "df_geopy1.shape\n"
      ]
    },
    {
      "execution_count": null,
      "cell_type": "code",
      "metadata": {
        "id": "TuYYLyA2uj6a"
      },
      "outputs": [],
      "source": [
        "df_geopy1.to_csv('geopy1.csv')\n",
        "# no data for location after row 75"
      ]
    },
    {
      "source": [
        "Now let's test for location = 'M1G, Scarborough, Woburn'"
      ],
      "cell_type": "markdown",
      "metadata": {
        "id": "Z2KLMGM-uj6a"
      }
    },
    {
      "execution_count": null,
      "cell_type": "code",
      "metadata": {
        "id": "EpnxsRhcuj6a"
      },
      "outputs": [],
      "source": [
        "from  geopy.geocoders import Nominatim\n",
        "geolocator = Nominatim()\n",
        "location = geolocator.geocode(\"M1G, Scarborough, Woburn\")\n",
        "\n",
        "\n",
        "#print(location.address)\n",
        "\n",
        "#print((location.latitude, location.longitude))\n",
        "\n",
        "#print(location.raw)\n"
      ]
    },
    {
      "execution_count": null,
      "cell_type": "code",
      "metadata": {
        "id": "GWfQ5XQKuj6a",
        "outputId": "bcd55721-bbcc-4f94-de09-be4d9296f20b"
      },
      "outputs": [
        {
          "output_type": "stream",
          "name": "stdout",
          "text": "Collecting geocoder\n\u001b[?25l  Downloading https://files.pythonhosted.org/packages/4f/6b/13166c909ad2f2d76b929a4227c952630ebaf0d729f6317eb09cbceccbab/geocoder-1.38.1-py2.py3-none-any.whl (98kB)\n\u001b[K    100% |████████████████████████████████| 102kB 17.7MB/s \n\u001b[?25hRequirement already satisfied: click in /home/jupyterlab/conda/lib/python3.6/site-packages (from geocoder) (7.0)\nRequirement already satisfied: requests in /home/jupyterlab/conda/lib/python3.6/site-packages (from geocoder) (2.21.0)\nCollecting ratelim (from geocoder)\n  Downloading https://files.pythonhosted.org/packages/f2/98/7e6d147fd16a10a5f821db6e25f192265d6ecca3d82957a4fdd592cad49c/ratelim-0.1.6-py2.py3-none-any.whl\nRequirement already satisfied: future in /home/jupyterlab/conda/lib/python3.6/site-packages (from geocoder) (0.17.1)\nRequirement already satisfied: six in /home/jupyterlab/conda/lib/python3.6/site-packages (from geocoder) (1.12.0)\nRequirement already satisfied: chardet<3.1.0,>=3.0.2 in /home/jupyterlab/conda/lib/python3.6/site-packages (from requests->geocoder) (3.0.4)\nRequirement already satisfied: certifi>=2017.4.17 in /home/jupyterlab/conda/lib/python3.6/site-packages (from requests->geocoder) (2019.3.9)\nRequirement already satisfied: urllib3<1.25,>=1.21.1 in /home/jupyterlab/conda/lib/python3.6/site-packages (from requests->geocoder) (1.24.1)\nRequirement already satisfied: idna<2.9,>=2.5 in /home/jupyterlab/conda/lib/python3.6/site-packages (from requests->geocoder) (2.8)\nRequirement already satisfied: decorator in /home/jupyterlab/conda/lib/python3.6/site-packages (from ratelim->geocoder) (4.4.0)\nInstalling collected packages: ratelim, geocoder\nSuccessfully installed geocoder-1.38.1 ratelim-0.1.6\nNote: you may need to restart the kernel to use updated packages.\n"
        }
      ],
      "source": [
        "pip install geocoder"
      ]
    },
    {
      "source": [
        "\n",
        " ####  Bonus _ Used Geopy & OpenStreetMap to create Dataframe\n"
      ],
      "cell_type": "markdown",
      "metadata": {
        "id": "qhbsRYt8uj6a"
      }
    },
    {
      "execution_count": null,
      "cell_type": "code",
      "metadata": {
        "id": "VbnU4Nmnuj6a"
      },
      "outputs": [],
      "source": [
        "df3.to_csv('geopy.csv')"
      ]
    },
    {
      "execution_count": null,
      "cell_type": "code",
      "metadata": {
        "id": "5GEU4Yrouj6a"
      },
      "outputs": [],
      "source": [
        "import csv\n",
        "\n",
        "with open('geopy.csv') as csvfile:\n",
        "     reader = csv.DictReader(csvfile)\n",
        "     #for row in reader:\n",
        "         #print(row['PostalCode'],row['Borough'], row['Neighbourhood'] )"
      ]
    },
    {
      "execution_count": null,
      "cell_type": "code",
      "metadata": {
        "id": "P-F-LhO1uj6a"
      },
      "outputs": [],
      "source": [
        "from  geopy.geocoders import Nominatim\n",
        "geolocator = Nominatim()\n",
        "location = geolocator.geocode(\"M1B Scarborough Rouge,Malvern\")\n",
        "\n",
        "#print(location.address)\n",
        "\n",
        "#print((location.latitude, location.longitude))\n",
        "\n",
        "#print(location.raw)\n"
      ]
    },
    {
      "execution_count": null,
      "cell_type": "code",
      "metadata": {
        "id": "RH_hVmICuj6a"
      },
      "outputs": [],
      "source": [
        "from  geopy.geocoders import Nominatim\n",
        "geolocator = Nominatim()\n",
        "location = geolocator.geocode(\"Toronto, Highland Creek\")\n",
        "\n",
        "#print(location.address)\n",
        "\n",
        "#print((location.latitude, location.longitude))\n",
        "\n",
        "#print(location.raw)\n",
        "\n",
        "#M1C Scarborough Highland Creek,Rouge Hill,Port Union = no address"
      ]
    },
    {
      "execution_count": null,
      "cell_type": "code",
      "metadata": {
        "id": "mpa3kIdjuj6a"
      },
      "outputs": [],
      "source": [
        "from  geopy.geocoders import Nominatim\n",
        "geolocator = Nominatim()\n",
        "location = geolocator.geocode(\"Toronto, Morningside\")\n",
        "\n",
        "#print(location.address)\n",
        "\n",
        "#print((location.latitude, location.longitude))\n",
        "\n",
        "#print(location.raw)\n",
        "\n",
        "#M1E Scarborough Guildwood,Morningside,West Hill = no address\n"
      ]
    },
    {
      "source": [
        "#### Bonus how to create csv file. "
      ],
      "cell_type": "markdown",
      "metadata": {
        "id": "qc1qKQetuj6a"
      }
    },
    {
      "execution_count": null,
      "cell_type": "code",
      "metadata": {
        "id": "FTaHSTdfuj6a"
      },
      "outputs": [],
      "source": [
        "# The code was removed by Watson Studio for sharing."
      ]
    },
    {
      "execution_count": null,
      "cell_type": "code",
      "metadata": {
        "id": "-spmPsCruj6b",
        "outputId": "e6df16e1-fd68-48f6-e2c9-c020681f6aca"
      },
      "outputs": [
        {
          "output_type": "stream",
          "name": "stdout",
          "text": "M1H Scarborough Woburn 43.7598243 -79.2252908\nM1B Scarborough Malvern 43.8091955 -79.2217008\nM1C Scarborough Highland_Creek 43.7901172 -79.1733344\nM1G  Scarborough Morningside 43.7826012 -79.2049579\n"
        }
      ],
      "source": [
        "# The code was removed by Watson Studio for sharing."
      ]
    },
    {
      "execution_count": null,
      "cell_type": "code",
      "metadata": {
        "id": "M0F2uGpUuj6b",
        "outputId": "bb18d36d-8bf4-49e5-e975-dd41b1b6a814"
      },
      "outputs": [
        {
          "execution_count": 47,
          "metadata": {},
          "data": {
            "text/html": "<div>\n<style scoped>\n    .dataframe tbody tr th:only-of-type {\n        vertical-align: middle;\n    }\n\n    .dataframe tbody tr th {\n        vertical-align: top;\n    }\n\n    .dataframe thead th {\n        text-align: right;\n    }\n</style>\n<table border=\"1\" class=\"dataframe\">\n  <thead>\n    <tr style=\"text-align: right;\">\n      <th></th>\n      <th>A</th>\n      <th>B</th>\n      <th>X</th>\n      <th>Y</th>\n      <th>Z</th>\n    </tr>\n  </thead>\n  <tbody>\n    <tr>\n      <th>0</th>\n      <td>M1H</td>\n      <td>Scarborough</td>\n      <td>Woburn</td>\n      <td>43.759824</td>\n      <td>-79.225291</td>\n    </tr>\n    <tr>\n      <th>1</th>\n      <td>M1B</td>\n      <td>Scarborough</td>\n      <td>Malvern</td>\n      <td>43.809196</td>\n      <td>-79.221701</td>\n    </tr>\n    <tr>\n      <th>2</th>\n      <td>M1C</td>\n      <td>Scarborough</td>\n      <td>Highland_Creek</td>\n      <td>43.790117</td>\n      <td>-79.173334</td>\n    </tr>\n    <tr>\n      <th>3</th>\n      <td>M1G</td>\n      <td>Scarborough</td>\n      <td>Morningside</td>\n      <td>43.782601</td>\n      <td>-79.204958</td>\n    </tr>\n  </tbody>\n</table>\n</div>",
            "text/plain": "      A            B               X          Y          Z\n0   M1H  Scarborough          Woburn  43.759824 -79.225291\n1   M1B  Scarborough         Malvern  43.809196 -79.221701\n2   M1C  Scarborough  Highland_Creek  43.790117 -79.173334\n3  M1G   Scarborough     Morningside  43.782601 -79.204958"
          },
          "output_type": "execute_result"
        }
      ],
      "source": [
        "# The code was removed by Watson Studio for sharing."
      ]
    },
    {
      "source": [
        "\n",
        "##  Retrieved coordinates with with lambda equation\n"
      ],
      "cell_type": "markdown",
      "metadata": {
        "id": "HKmjuAc3uj6b"
      }
    },
    {
      "execution_count": null,
      "cell_type": "code",
      "metadata": {
        "id": "VkWIRQvuuj6b"
      },
      "outputs": [],
      "source": [
        "import pandas, os\n",
        "#os.listdir()"
      ]
    },
    {
      "execution_count": null,
      "cell_type": "code",
      "metadata": {
        "id": "AUTFeFw8uj6b"
      },
      "outputs": [],
      "source": [
        "df_geopy=df3\n",
        "#df_geopy.head()"
      ]
    },
    {
      "execution_count": null,
      "cell_type": "code",
      "metadata": {
        "id": "htP73Khiuj6b"
      },
      "outputs": [],
      "source": [
        "import geopy\n",
        "#dir(geopy)"
      ]
    },
    {
      "execution_count": null,
      "cell_type": "code",
      "metadata": {
        "id": "XueBxhu-uj6b",
        "outputId": "38e0ed37-779a-49f2-cde4-5d00605ca40c"
      },
      "outputs": [
        {
          "execution_count": 51,
          "metadata": {},
          "data": {
            "text/plain": "pandas.core.frame.DataFrame"
          },
          "output_type": "execute_result"
        }
      ],
      "source": [
        "type(df_geopy)"
      ]
    },
    {
      "execution_count": null,
      "cell_type": "code",
      "metadata": {
        "id": "44ZXZxZkuj6c",
        "outputId": "89727cf4-75a3-46e6-9b66-44b29c3c3032"
      },
      "outputs": [
        {
          "output_type": "stream",
          "name": "stdout",
          "text": "<class 'pandas.core.frame.DataFrame'>\nInt64Index: 103 entries, 0 to 102\nData columns (total 4 columns):\nPostalCode       103 non-null object\nBorough          103 non-null object\nNeighbourhood    103 non-null object\naddress          103 non-null object\ndtypes: object(4)\nmemory usage: 4.0+ KB\n"
        }
      ],
      "source": [
        "df_geopy.info()"
      ]
    },
    {
      "source": [
        "### Import GeoPy:"
      ],
      "cell_type": "markdown",
      "metadata": {
        "id": "W7roMn_Nuj6c"
      }
    },
    {
      "execution_count": null,
      "cell_type": "code",
      "metadata": {
        "id": "ZoWSitJ5uj6c",
        "outputId": "ba77e273-d338-44c4-b908-92a4c0edda00"
      },
      "outputs": [
        {
          "output_type": "stream",
          "name": "stdout",
          "text": "Requirement already satisfied: geopy in /home/jupyterlab/conda/lib/python3.6/site-packages (1.11.0)\nNote: you may need to restart the kernel to use updated packages.\n"
        }
      ],
      "source": [
        "pip install geopy"
      ]
    },
    {
      "execution_count": null,
      "cell_type": "code",
      "metadata": {
        "id": "HElL9EzOuj6c",
        "outputId": "5d59cee6-84e6-4481-89d1-f78aab74cdd9"
      },
      "outputs": [
        {
          "output_type": "stream",
          "name": "stdout",
          "text": "Nominatim imported\n"
        }
      ],
      "source": [
        "from geopy.geocoders import Nominatim\n",
        "print('Nominatim imported')"
      ]
    },
    {
      "source": [
        "### Set connection to OpenStreeMap "
      ],
      "cell_type": "markdown",
      "metadata": {
        "id": "qmWE-i7Muj6c"
      }
    },
    {
      "execution_count": null,
      "cell_type": "code",
      "metadata": {
        "id": "iT7ldvnmuj6c",
        "outputId": "85fe4dee-6c39-4d4c-b8d3-eed7aad32ea3"
      },
      "outputs": [
        {
          "execution_count": 55,
          "metadata": {},
          "data": {
            "text/html": "<div>\n<style scoped>\n    .dataframe tbody tr th:only-of-type {\n        vertical-align: middle;\n    }\n\n    .dataframe tbody tr th {\n        vertical-align: top;\n    }\n\n    .dataframe thead th {\n        text-align: right;\n    }\n</style>\n<table border=\"1\" class=\"dataframe\">\n  <thead>\n    <tr style=\"text-align: right;\">\n      <th></th>\n      <th>PostalCode</th>\n      <th>Borough</th>\n      <th>Neighbourhood</th>\n      <th>address</th>\n    </tr>\n  </thead>\n  <tbody>\n    <tr>\n      <th>0</th>\n      <td>M1B</td>\n      <td>Scarborough</td>\n      <td>Rouge,Malvern</td>\n      <td>M1B,Scarborough,Rouge,Malvern</td>\n    </tr>\n    <tr>\n      <th>1</th>\n      <td>M1C</td>\n      <td>Scarborough</td>\n      <td>Highland Creek,Rouge Hill,Port Union</td>\n      <td>M1C,Scarborough,Highland Creek,Rouge Hill,Port...</td>\n    </tr>\n    <tr>\n      <th>2</th>\n      <td>M1E</td>\n      <td>Scarborough</td>\n      <td>Guildwood,Morningside,West Hill</td>\n      <td>M1E,Scarborough,Guildwood,Morningside,West Hill</td>\n    </tr>\n    <tr>\n      <th>3</th>\n      <td>M1G</td>\n      <td>Scarborough</td>\n      <td>Woburn</td>\n      <td>M1G,Scarborough,Woburn</td>\n    </tr>\n    <tr>\n      <th>4</th>\n      <td>M1H</td>\n      <td>Scarborough</td>\n      <td>Cedarbrae</td>\n      <td>M1H,Scarborough,Cedarbrae</td>\n    </tr>\n  </tbody>\n</table>\n</div>",
            "text/plain": "  PostalCode      Borough                         Neighbourhood  \\\n0        M1B  Scarborough                         Rouge,Malvern   \n1        M1C  Scarborough  Highland Creek,Rouge Hill,Port Union   \n2        M1E  Scarborough       Guildwood,Morningside,West Hill   \n3        M1G  Scarborough                                Woburn   \n4        M1H  Scarborough                             Cedarbrae   \n\n                                             address  \n0                      M1B,Scarborough,Rouge,Malvern  \n1  M1C,Scarborough,Highland Creek,Rouge Hill,Port...  \n2    M1E,Scarborough,Guildwood,Morningside,West Hill  \n3                             M1G,Scarborough,Woburn  \n4                          M1H,Scarborough,Cedarbrae  "
          },
          "output_type": "execute_result"
        }
      ],
      "source": [
        "df_geopy['address']=df_geopy['PostalCode'] + ',' + df_geopy['Borough'] + ','+ df_geopy['Neighbourhood']\n",
        "df_geopy.head()"
      ]
    },
    {
      "execution_count": null,
      "cell_type": "code",
      "metadata": {
        "id": "_VIFEPujuj6c"
      },
      "outputs": [],
      "source": [
        "nom = Nominatim()"
      ]
    },
    {
      "execution_count": null,
      "cell_type": "code",
      "metadata": {
        "id": "oJit2yPVuj6c",
        "outputId": "bed3750e-d360-42cf-e518-a5dba9ea3c0f"
      },
      "outputs": [
        {
          "execution_count": 57,
          "metadata": {},
          "data": {
            "text/plain": "Location(Malvern, Scarborough—Rouge Park, Scarborough, Toronto, Golden Horseshoe, Ontario, M1B 4Y7, Canada, (43.8091955, -79.2217008, 0.0))"
          },
          "output_type": "execute_result"
        }
      ],
      "source": [
        "n=nom.geocode('M1B, Scarborough, Rouge,Malvern')\n",
        "n"
      ]
    },
    {
      "execution_count": null,
      "cell_type": "code",
      "metadata": {
        "id": "4oOU-O5Tuj6c",
        "outputId": "f2089447-e5f7-4ac7-b77e-ce9abca7537a"
      },
      "outputs": [
        {
          "execution_count": 58,
          "metadata": {},
          "data": {
            "text/plain": "43.8091955"
          },
          "output_type": "execute_result"
        }
      ],
      "source": [
        "n.latitude"
      ]
    },
    {
      "execution_count": null,
      "cell_type": "code",
      "metadata": {
        "id": "0z9c9ppTuj6c",
        "outputId": "378b5521-4147-4204-ac2c-45048dfba50a"
      },
      "outputs": [
        {
          "execution_count": 59,
          "metadata": {},
          "data": {
            "text/plain": "geopy.location.Location"
          },
          "output_type": "execute_result"
        }
      ],
      "source": [
        "type(n)"
      ]
    },
    {
      "source": [
        "#### Watch out for None values"
      ],
      "cell_type": "markdown",
      "metadata": {
        "id": "IRrWi6bxuj6d"
      }
    },
    {
      "execution_count": null,
      "cell_type": "code",
      "metadata": {
        "id": "1465wX1yuj6d",
        "outputId": "8b50654c-0c4b-4a5a-e08e-f3a2b375825d"
      },
      "outputs": [
        {
          "output_type": "stream",
          "name": "stdout",
          "text": "None\n"
        }
      ],
      "source": [
        "n2=nom.geocode('M1E Scarborough Guildwood,Morningside,West Hill')\n",
        "print(n2)"
      ]
    },
    {
      "source": [
        "### Use 'address' to get geocode coordinates:\n",
        "\n",
        "Geocoding (Latitude/Longitude Lookup) Required parameters in a geocoding request: address — The street address that you want to geocode, in the format used by the national postal service of the country concerned. Additional address elements such as business names and unit, suite or floor numbers should be avoided."
      ],
      "cell_type": "markdown",
      "metadata": {
        "id": "o7rbZJ5Yuj6d"
      }
    },
    {
      "execution_count": null,
      "cell_type": "code",
      "metadata": {
        "id": "7qdMPS4Auj6d",
        "outputId": "0056aa39-ebf2-405b-d9e2-85ea11ba600f"
      },
      "outputs": [
        {
          "execution_count": 64,
          "metadata": {},
          "data": {
            "text/html": "<div>\n<style scoped>\n    .dataframe tbody tr th:only-of-type {\n        vertical-align: middle;\n    }\n\n    .dataframe tbody tr th {\n        vertical-align: top;\n    }\n\n    .dataframe thead th {\n        text-align: right;\n    }\n</style>\n<table border=\"1\" class=\"dataframe\">\n  <thead>\n    <tr style=\"text-align: right;\">\n      <th></th>\n      <th>PostalCode</th>\n      <th>Borough</th>\n      <th>Neighbourhood</th>\n      <th>address</th>\n      <th>Coordinates</th>\n    </tr>\n  </thead>\n  <tbody>\n    <tr>\n      <th>0</th>\n      <td>M1B</td>\n      <td>Scarborough</td>\n      <td>Rouge,Malvern</td>\n      <td>M1B,Scarborough,Rouge,Malvern</td>\n      <td>(Malvern, Scarborough—Rouge Park, Scarborough,...</td>\n    </tr>\n    <tr>\n      <th>1</th>\n      <td>M1C</td>\n      <td>Scarborough</td>\n      <td>Highland Creek,Rouge Hill,Port Union</td>\n      <td>M1C,Scarborough,Highland Creek,Rouge Hill,Port...</td>\n      <td>None</td>\n    </tr>\n    <tr>\n      <th>2</th>\n      <td>M1E</td>\n      <td>Scarborough</td>\n      <td>Guildwood,Morningside,West Hill</td>\n      <td>M1E,Scarborough,Guildwood,Morningside,West Hill</td>\n      <td>None</td>\n    </tr>\n    <tr>\n      <th>3</th>\n      <td>M1G</td>\n      <td>Scarborough</td>\n      <td>Woburn</td>\n      <td>M1G,Scarborough,Woburn</td>\n      <td>(Woburn, Scarborough—Guildwood, Scarborough, T...</td>\n    </tr>\n    <tr>\n      <th>4</th>\n      <td>M1H</td>\n      <td>Scarborough</td>\n      <td>Cedarbrae</td>\n      <td>M1H,Scarborough,Cedarbrae</td>\n      <td>None</td>\n    </tr>\n  </tbody>\n</table>\n</div>",
            "text/plain": "  PostalCode      Borough                         Neighbourhood  \\\n0        M1B  Scarborough                         Rouge,Malvern   \n1        M1C  Scarborough  Highland Creek,Rouge Hill,Port Union   \n2        M1E  Scarborough       Guildwood,Morningside,West Hill   \n3        M1G  Scarborough                                Woburn   \n4        M1H  Scarborough                             Cedarbrae   \n\n                                             address  \\\n0                      M1B,Scarborough,Rouge,Malvern   \n1  M1C,Scarborough,Highland Creek,Rouge Hill,Port...   \n2    M1E,Scarborough,Guildwood,Morningside,West Hill   \n3                             M1G,Scarborough,Woburn   \n4                          M1H,Scarborough,Cedarbrae   \n\n                                         Coordinates  \n0  (Malvern, Scarborough—Rouge Park, Scarborough,...  \n1                                               None  \n2                                               None  \n3  (Woburn, Scarborough—Guildwood, Scarborough, T...  \n4                                               None  "
          },
          "output_type": "execute_result"
        }
      ],
      "source": [
        "df_geopy['Coordinates'] =df_geopy['address'].apply(nom.geocode)\n",
        "df_geopy.head()\n",
        "\n"
      ]
    },
    {
      "source": [
        "### A few location objects created at 'Coordinates' \n"
      ],
      "cell_type": "markdown",
      "metadata": {
        "id": "lUQJ_uZPuj6d"
      }
    },
    {
      "execution_count": null,
      "cell_type": "code",
      "metadata": {
        "id": "v_FYRXnWuj6d",
        "outputId": "61294203-2192-4b7c-e86f-f3706b387333"
      },
      "outputs": [
        {
          "output_type": "stream",
          "name": "stdout",
          "text": "<class 'pandas.core.frame.DataFrame'>\nInt64Index: 103 entries, 0 to 102\nData columns (total 5 columns):\nPostalCode       103 non-null object\nBorough          103 non-null object\nNeighbourhood    103 non-null object\naddress          103 non-null object\nCoordinates      5 non-null object\ndtypes: object(5)\nmemory usage: 4.8+ KB\n"
        }
      ],
      "source": [
        "df_geopy.info()"
      ]
    },
    {
      "execution_count": null,
      "cell_type": "code",
      "metadata": {
        "id": "O2JFlTLwuj6d",
        "outputId": "056b0783-b47e-4ed1-b0bb-cd157e05aff7"
      },
      "outputs": [
        {
          "execution_count": 66,
          "metadata": {},
          "data": {
            "text/plain": "Location(Malvern, Scarborough—Rouge Park, Scarborough, Toronto, Golden Horseshoe, Ontario, M1B 4Y7, Canada, (43.8091955, -79.2217008, 0.0))"
          },
          "output_type": "execute_result"
        }
      ],
      "source": [
        "df_geopy.Coordinates[0]"
      ]
    },
    {
      "execution_count": null,
      "cell_type": "code",
      "metadata": {
        "id": "l-PaUbRRuj6d",
        "outputId": "b8db88b0-5fce-4c3b-c1d7-f07e3e48db4a"
      },
      "outputs": [
        {
          "output_type": "stream",
          "name": "stdout",
          "text": "None\n"
        }
      ],
      "source": [
        "print(df_geopy.Coordinates[1])"
      ]
    },
    {
      "execution_count": null,
      "cell_type": "code",
      "metadata": {
        "id": "X8pdRaUFuj6d",
        "outputId": "5a42c155-1877-49b1-c144-1cae80e8264a"
      },
      "outputs": [
        {
          "execution_count": 68,
          "metadata": {},
          "data": {
            "text/html": "<div>\n<style scoped>\n    .dataframe tbody tr th:only-of-type {\n        vertical-align: middle;\n    }\n\n    .dataframe tbody tr th {\n        vertical-align: top;\n    }\n\n    .dataframe thead th {\n        text-align: right;\n    }\n</style>\n<table border=\"1\" class=\"dataframe\">\n  <thead>\n    <tr style=\"text-align: right;\">\n      <th></th>\n      <th>PostalCode</th>\n      <th>Borough</th>\n      <th>Neighbourhood</th>\n      <th>address</th>\n      <th>Coordinates</th>\n      <th>latitude</th>\n      <th>longitude</th>\n    </tr>\n  </thead>\n  <tbody>\n    <tr>\n      <th>0</th>\n      <td>M1B</td>\n      <td>Scarborough</td>\n      <td>Rouge,Malvern</td>\n      <td>M1B,Scarborough,Rouge,Malvern</td>\n      <td>(Malvern, Scarborough—Rouge Park, Scarborough,...</td>\n      <td>43.809196</td>\n      <td>-79.221701</td>\n    </tr>\n    <tr>\n      <th>1</th>\n      <td>M1C</td>\n      <td>Scarborough</td>\n      <td>Highland Creek,Rouge Hill,Port Union</td>\n      <td>M1C,Scarborough,Highland Creek,Rouge Hill,Port...</td>\n      <td>None</td>\n      <td>NaN</td>\n      <td>NaN</td>\n    </tr>\n    <tr>\n      <th>2</th>\n      <td>M1E</td>\n      <td>Scarborough</td>\n      <td>Guildwood,Morningside,West Hill</td>\n      <td>M1E,Scarborough,Guildwood,Morningside,West Hill</td>\n      <td>None</td>\n      <td>NaN</td>\n      <td>NaN</td>\n    </tr>\n    <tr>\n      <th>3</th>\n      <td>M1G</td>\n      <td>Scarborough</td>\n      <td>Woburn</td>\n      <td>M1G,Scarborough,Woburn</td>\n      <td>(Woburn, Scarborough—Guildwood, Scarborough, T...</td>\n      <td>43.759824</td>\n      <td>-79.225291</td>\n    </tr>\n    <tr>\n      <th>4</th>\n      <td>M1H</td>\n      <td>Scarborough</td>\n      <td>Cedarbrae</td>\n      <td>M1H,Scarborough,Cedarbrae</td>\n      <td>None</td>\n      <td>NaN</td>\n      <td>NaN</td>\n    </tr>\n  </tbody>\n</table>\n</div>",
            "text/plain": "  PostalCode      Borough                         Neighbourhood  \\\n0        M1B  Scarborough                         Rouge,Malvern   \n1        M1C  Scarborough  Highland Creek,Rouge Hill,Port Union   \n2        M1E  Scarborough       Guildwood,Morningside,West Hill   \n3        M1G  Scarborough                                Woburn   \n4        M1H  Scarborough                             Cedarbrae   \n\n                                             address  \\\n0                      M1B,Scarborough,Rouge,Malvern   \n1  M1C,Scarborough,Highland Creek,Rouge Hill,Port...   \n2    M1E,Scarborough,Guildwood,Morningside,West Hill   \n3                             M1G,Scarborough,Woburn   \n4                          M1H,Scarborough,Cedarbrae   \n\n                                         Coordinates   latitude  longitude  \n0  (Malvern, Scarborough—Rouge Park, Scarborough,...  43.809196 -79.221701  \n1                                               None        NaN        NaN  \n2                                               None        NaN        NaN  \n3  (Woburn, Scarborough—Guildwood, Scarborough, T...  43.759824 -79.225291  \n4                                               None        NaN        NaN  "
          },
          "output_type": "execute_result"
        }
      ],
      "source": [
        "df_geopy['latitude']=df_geopy['Coordinates'].apply(lambda x: x.latitude if x !=None else None)\n",
        "df_geopy['longitude']=df_geopy['Coordinates'].apply(lambda x: x.longitude if x !=None else None)\n",
        "df_geopy.head()"
      ]
    },
    {
      "execution_count": null,
      "cell_type": "code",
      "metadata": {
        "id": "7WE_PbKmuj6d"
      },
      "outputs": [],
      "source": [
        "df_geopy.to_csv('geo_loc_py.csv')"
      ]
    },
    {
      "source": [
        "#### As just 5 addresses were fruitful, we will go on to use the given geo-location csv."
      ],
      "cell_type": "markdown",
      "metadata": {
        "id": "8vuA8mR3uj6d"
      }
    },
    {
      "execution_count": null,
      "cell_type": "code",
      "metadata": {
        "id": "bve982WSuj6d",
        "outputId": "8a997602-cc2e-482f-9836-dec50102b225"
      },
      "outputs": [
        {
          "output_type": "stream",
          "name": "stdout",
          "text": "The latitude of M1B,Scarborough,Rouge,Malvern is 43.8091955 and its longitude is -79.2217008\n"
        }
      ],
      "source": [
        "print('The latitude of', df_geopy.address[0],  'is', df_geopy.latitude[0], 'and its longitude is',df_geopy.longitude[0])"
      ]
    },
    {
      "source": [
        "# 2.2. Used the csv file to create the requested dataframe "
      ],
      "cell_type": "markdown",
      "metadata": {
        "id": "IA1al3NWuj6d"
      }
    },
    {
      "execution_count": null,
      "cell_type": "code",
      "metadata": {
        "id": "lFUglzvKuj6e",
        "outputId": "b74a9e31-cf7b-4d6c-e7ee-c39d117be68a"
      },
      "outputs": [
        {
          "execution_count": 71,
          "metadata": {},
          "data": {
            "text/html": "<div>\n<style scoped>\n    .dataframe tbody tr th:only-of-type {\n        vertical-align: middle;\n    }\n\n    .dataframe tbody tr th {\n        vertical-align: top;\n    }\n\n    .dataframe thead th {\n        text-align: right;\n    }\n</style>\n<table border=\"1\" class=\"dataframe\">\n  <thead>\n    <tr style=\"text-align: right;\">\n      <th></th>\n      <th>Unnamed: 0</th>\n      <th>PostalCode</th>\n      <th>Borough</th>\n      <th>Neighbourhood</th>\n      <th>address</th>\n    </tr>\n  </thead>\n  <tbody>\n    <tr>\n      <th>0</th>\n      <td>0</td>\n      <td>M1B</td>\n      <td>Scarborough</td>\n      <td>Rouge,Malvern</td>\n      <td>M1B, Scarborough, Rouge,Malvern</td>\n    </tr>\n    <tr>\n      <th>1</th>\n      <td>1</td>\n      <td>M1C</td>\n      <td>Scarborough</td>\n      <td>Highland Creek,Rouge Hill,Port Union</td>\n      <td>M1C, Scarborough, Highland Creek,Rouge Hill,Po...</td>\n    </tr>\n    <tr>\n      <th>2</th>\n      <td>2</td>\n      <td>M1E</td>\n      <td>Scarborough</td>\n      <td>Guildwood,Morningside,West Hill</td>\n      <td>M1E, Scarborough, Guildwood,Morningside,West Hill</td>\n    </tr>\n    <tr>\n      <th>3</th>\n      <td>3</td>\n      <td>M1G</td>\n      <td>Scarborough</td>\n      <td>Woburn</td>\n      <td>M1G, Scarborough, Woburn</td>\n    </tr>\n    <tr>\n      <th>4</th>\n      <td>4</td>\n      <td>M1H</td>\n      <td>Scarborough</td>\n      <td>Cedarbrae</td>\n      <td>M1H, Scarborough, Cedarbrae</td>\n    </tr>\n  </tbody>\n</table>\n</div>",
            "text/plain": "   Unnamed: 0 PostalCode      Borough                         Neighbourhood  \\\n0           0        M1B  Scarborough                         Rouge,Malvern   \n1           1        M1C  Scarborough  Highland Creek,Rouge Hill,Port Union   \n2           2        M1E  Scarborough       Guildwood,Morningside,West Hill   \n3           3        M1G  Scarborough                                Woburn   \n4           4        M1H  Scarborough                             Cedarbrae   \n\n                                             address  \n0                    M1B, Scarborough, Rouge,Malvern  \n1  M1C, Scarborough, Highland Creek,Rouge Hill,Po...  \n2  M1E, Scarborough, Guildwood,Morningside,West Hill  \n3                           M1G, Scarborough, Woburn  \n4                        M1H, Scarborough, Cedarbrae  "
          },
          "output_type": "execute_result"
        }
      ],
      "source": [
        "# Load the Pandas libraries with alias 'pd' \n",
        "import pandas as pd \n",
        "# Read data from file 'filename.csv' \n",
        "# (in the same directory that your python process is based)\n",
        "# Control delimiters, rows, column names with read_csv (see later) \n",
        "data2 = pd.read_csv(\"geopy.csv\") \n",
        "# Preview the first 5 lines of the loaded data \n",
        "data2.head()"
      ]
    },
    {
      "execution_count": null,
      "cell_type": "code",
      "metadata": {
        "id": "XJmYRn-Cuj6e",
        "outputId": "11f416c9-e912-45b8-b03a-c31a2da7029c"
      },
      "outputs": [
        {
          "execution_count": 72,
          "metadata": {},
          "data": {
            "text/html": "<div>\n<style scoped>\n    .dataframe tbody tr th:only-of-type {\n        vertical-align: middle;\n    }\n\n    .dataframe tbody tr th {\n        vertical-align: top;\n    }\n\n    .dataframe thead th {\n        text-align: right;\n    }\n</style>\n<table border=\"1\" class=\"dataframe\">\n  <thead>\n    <tr style=\"text-align: right;\">\n      <th></th>\n      <th>Postal Code</th>\n      <th>Latitude</th>\n      <th>Longitude</th>\n    </tr>\n  </thead>\n  <tbody>\n    <tr>\n      <th>0</th>\n      <td>M1B</td>\n      <td>43.806686</td>\n      <td>-79.194353</td>\n    </tr>\n    <tr>\n      <th>1</th>\n      <td>M1C</td>\n      <td>43.784535</td>\n      <td>-79.160497</td>\n    </tr>\n    <tr>\n      <th>2</th>\n      <td>M1E</td>\n      <td>43.763573</td>\n      <td>-79.188711</td>\n    </tr>\n    <tr>\n      <th>3</th>\n      <td>M1G</td>\n      <td>43.770992</td>\n      <td>-79.216917</td>\n    </tr>\n    <tr>\n      <th>4</th>\n      <td>M1H</td>\n      <td>43.773136</td>\n      <td>-79.239476</td>\n    </tr>\n  </tbody>\n</table>\n</div>",
            "text/plain": "  Postal Code   Latitude  Longitude\n0         M1B  43.806686 -79.194353\n1         M1C  43.784535 -79.160497\n2         M1E  43.763573 -79.188711\n3         M1G  43.770992 -79.216917\n4         M1H  43.773136 -79.239476"
          },
          "output_type": "execute_result"
        }
      ],
      "source": [
        "data3 = pd.read_csv(\"Geospatial_Coordinates.csv\") \n",
        "# Preview the first 5 lines of the loaded data \n",
        "data3.head()"
      ]
    },
    {
      "source": [
        "- Rename 'Postal Code'"
      ],
      "cell_type": "markdown",
      "metadata": {
        "id": "DrnKmEkeuj6e"
      }
    },
    {
      "execution_count": null,
      "cell_type": "code",
      "metadata": {
        "id": "2Eh5J3m0uj6e"
      },
      "outputs": [],
      "source": [
        "data3.rename(columns={'Postal Code': 'PostalCode'}, inplace=True)\n",
        "#data3.head()"
      ]
    },
    {
      "execution_count": null,
      "cell_type": "code",
      "metadata": {
        "id": "tSUuiK4Puj6e",
        "outputId": "6411418c-955c-4f64-93ae-02c61b334eef"
      },
      "outputs": [
        {
          "execution_count": 74,
          "metadata": {},
          "data": {
            "text/html": "<div>\n<style scoped>\n    .dataframe tbody tr th:only-of-type {\n        vertical-align: middle;\n    }\n\n    .dataframe tbody tr th {\n        vertical-align: top;\n    }\n\n    .dataframe thead th {\n        text-align: right;\n    }\n</style>\n<table border=\"1\" class=\"dataframe\">\n  <thead>\n    <tr style=\"text-align: right;\">\n      <th></th>\n      <th>PostalCode</th>\n      <th>Latitude</th>\n      <th>Longitude</th>\n      <th>Unnamed: 0</th>\n      <th>Borough</th>\n      <th>Neighbourhood</th>\n      <th>address</th>\n    </tr>\n  </thead>\n  <tbody>\n    <tr>\n      <th>0</th>\n      <td>M1B</td>\n      <td>43.806686</td>\n      <td>-79.194353</td>\n      <td>0</td>\n      <td>Scarborough</td>\n      <td>Rouge,Malvern</td>\n      <td>M1B, Scarborough, Rouge,Malvern</td>\n    </tr>\n    <tr>\n      <th>1</th>\n      <td>M1C</td>\n      <td>43.784535</td>\n      <td>-79.160497</td>\n      <td>1</td>\n      <td>Scarborough</td>\n      <td>Highland Creek,Rouge Hill,Port Union</td>\n      <td>M1C, Scarborough, Highland Creek,Rouge Hill,Po...</td>\n    </tr>\n    <tr>\n      <th>2</th>\n      <td>M1E</td>\n      <td>43.763573</td>\n      <td>-79.188711</td>\n      <td>2</td>\n      <td>Scarborough</td>\n      <td>Guildwood,Morningside,West Hill</td>\n      <td>M1E, Scarborough, Guildwood,Morningside,West Hill</td>\n    </tr>\n    <tr>\n      <th>3</th>\n      <td>M1G</td>\n      <td>43.770992</td>\n      <td>-79.216917</td>\n      <td>3</td>\n      <td>Scarborough</td>\n      <td>Woburn</td>\n      <td>M1G, Scarborough, Woburn</td>\n    </tr>\n    <tr>\n      <th>4</th>\n      <td>M1H</td>\n      <td>43.773136</td>\n      <td>-79.239476</td>\n      <td>4</td>\n      <td>Scarborough</td>\n      <td>Cedarbrae</td>\n      <td>M1H, Scarborough, Cedarbrae</td>\n    </tr>\n  </tbody>\n</table>\n</div>",
            "text/plain": "  PostalCode   Latitude  Longitude  Unnamed: 0      Borough  \\\n0        M1B  43.806686 -79.194353           0  Scarborough   \n1        M1C  43.784535 -79.160497           1  Scarborough   \n2        M1E  43.763573 -79.188711           2  Scarborough   \n3        M1G  43.770992 -79.216917           3  Scarborough   \n4        M1H  43.773136 -79.239476           4  Scarborough   \n\n                          Neighbourhood  \\\n0                         Rouge,Malvern   \n1  Highland Creek,Rouge Hill,Port Union   \n2       Guildwood,Morningside,West Hill   \n3                                Woburn   \n4                             Cedarbrae   \n\n                                             address  \n0                    M1B, Scarborough, Rouge,Malvern  \n1  M1C, Scarborough, Highland Creek,Rouge Hill,Po...  \n2  M1E, Scarborough, Guildwood,Morningside,West Hill  \n3                           M1G, Scarborough, Woburn  \n4                        M1H, Scarborough, Cedarbrae  "
          },
          "output_type": "execute_result"
        }
      ],
      "source": [
        "data1 = pd.merge(data3, data2, how='inner', on=None, left_on=None, right_on=None,\n",
        "         left_index=False, right_index=False, sort=True,\n",
        "         suffixes=('_x', '_y'), copy=True, indicator=False,\n",
        "         validate=None)\n",
        "\n",
        "data1.head()"
      ]
    },
    {
      "execution_count": null,
      "cell_type": "code",
      "metadata": {
        "id": "o8exyKM9uj6e",
        "outputId": "88c44be8-356a-404f-cb36-b037cb1f2dee"
      },
      "outputs": [
        {
          "output_type": "stream",
          "name": "stdout",
          "text": "<class 'pandas.core.frame.DataFrame'>\nInt64Index: 103 entries, 0 to 102\nData columns (total 7 columns):\nPostalCode       103 non-null object\nLatitude         103 non-null float64\nLongitude        103 non-null float64\nUnnamed: 0       103 non-null int64\nBorough          103 non-null object\nNeighbourhood    103 non-null object\naddress          103 non-null object\ndtypes: float64(2), int64(1), object(4)\nmemory usage: 6.4+ KB\n"
        }
      ],
      "source": [
        "data1.info()"
      ]
    },
    {
      "source": [
        "- Rearrange columns and drop foreign key:"
      ],
      "cell_type": "markdown",
      "metadata": {
        "id": "ibSe8vJkuj6e"
      }
    },
    {
      "execution_count": null,
      "cell_type": "code",
      "metadata": {
        "id": "iWStmbyKuj6e",
        "outputId": "7d285b56-d421-4f79-e667-0ab01a430f65"
      },
      "outputs": [
        {
          "execution_count": 76,
          "metadata": {},
          "data": {
            "text/plain": "['PostalCode',\n 'Latitude',\n 'Longitude',\n 'Unnamed: 0',\n 'Borough',\n 'Neighbourhood',\n 'address']"
          },
          "output_type": "execute_result"
        }
      ],
      "source": [
        "cols = data1.columns.tolist()\n",
        "cols"
      ]
    },
    {
      "execution_count": null,
      "cell_type": "code",
      "metadata": {
        "id": "B4Wje4rNuj6e",
        "outputId": "0f1fa67d-2bfa-446d-e807-4e3072719c48"
      },
      "outputs": [
        {
          "execution_count": 77,
          "metadata": {},
          "data": {
            "text/plain": "['PostalCode', 'Borough', 'Neighbourhood', 'Latitude', 'Longitude']"
          },
          "output_type": "execute_result"
        }
      ],
      "source": [
        "new_column_order = ['PostalCode',\n",
        " 'Borough',\n",
        " 'Neighbourhood',\n",
        " 'Latitude',\n",
        " 'Longitude']\n",
        "new_column_order"
      ]
    },
    {
      "execution_count": null,
      "cell_type": "code",
      "metadata": {
        "id": "4p95zTdJuj6e"
      },
      "outputs": [],
      "source": [
        "data1 = data1[new_column_order]\n",
        "#data1.head()"
      ]
    },
    {
      "source": [
        "- Sort dataframe to match example:"
      ],
      "cell_type": "markdown",
      "metadata": {
        "id": "Zta_xxWiuj6e"
      }
    },
    {
      "execution_count": null,
      "cell_type": "code",
      "metadata": {
        "id": "nz6InW_Tuj6e"
      },
      "outputs": [],
      "source": [
        "sorted_df = data1.sort_values([ 'Neighbourhood', 'Latitude'], ascending=[True, True])\n",
        "#sorted_df.head()\n",
        "# no idea how to get it exacly like the exqample :("
      ]
    },
    {
      "execution_count": null,
      "cell_type": "code",
      "metadata": {
        "id": "InWJifVRuj6e"
      },
      "outputs": [],
      "source": [
        "sorted_df.reset_index(inplace=True)\n",
        "#sorted_df.head()\n"
      ]
    },
    {
      "execution_count": null,
      "cell_type": "code",
      "metadata": {
        "id": "9rBRybCzuj6e"
      },
      "outputs": [],
      "source": [
        "sorted_cols =sorted_df.columns.tolist()\n",
        "#sorted_cols"
      ]
    },
    {
      "execution_count": null,
      "cell_type": "code",
      "metadata": {
        "id": "uQI2UYAyuj6e",
        "outputId": "874a71fc-18d6-409e-a9ac-33ce4e35bc34"
      },
      "outputs": [
        {
          "execution_count": 82,
          "metadata": {},
          "data": {
            "text/plain": "['PostalCode', 'Borough', 'Neighbourhood', 'Latitude', 'Longitude']"
          },
          "output_type": "execute_result"
        }
      ],
      "source": [
        "new_column_order2 = ['PostalCode',\n",
        " 'Borough',\n",
        " 'Neighbourhood',\n",
        " 'Latitude',\n",
        " 'Longitude']\n",
        "new_column_order2"
      ]
    },
    {
      "execution_count": null,
      "cell_type": "code",
      "metadata": {
        "id": "5KarbtSxuj6e",
        "outputId": "b084c4e9-b3bb-4974-90a1-7bce4fc0205e"
      },
      "outputs": [
        {
          "execution_count": 83,
          "metadata": {},
          "data": {
            "text/html": "<div>\n<style scoped>\n    .dataframe tbody tr th:only-of-type {\n        vertical-align: middle;\n    }\n\n    .dataframe tbody tr th {\n        vertical-align: top;\n    }\n\n    .dataframe thead th {\n        text-align: right;\n    }\n</style>\n<table border=\"1\" class=\"dataframe\">\n  <thead>\n    <tr style=\"text-align: right;\">\n      <th></th>\n      <th>PostalCode</th>\n      <th>Borough</th>\n      <th>Neighbourhood</th>\n      <th>Latitude</th>\n      <th>Longitude</th>\n    </tr>\n  </thead>\n  <tbody>\n    <tr>\n      <th>0</th>\n      <td>M5H</td>\n      <td>DowntownToronto</td>\n      <td>Adelaide,King,Richmond</td>\n      <td>43.650571</td>\n      <td>-79.384568</td>\n    </tr>\n    <tr>\n      <th>1</th>\n      <td>M1S</td>\n      <td>Scarborough</td>\n      <td>Agincourt</td>\n      <td>43.794200</td>\n      <td>-79.262029</td>\n    </tr>\n    <tr>\n      <th>2</th>\n      <td>M1V</td>\n      <td>Scarborough</td>\n      <td>Agincourt North,L'Amoreaux East,Milliken,Steel...</td>\n      <td>43.815252</td>\n      <td>-79.284577</td>\n    </tr>\n    <tr>\n      <th>3</th>\n      <td>M9V</td>\n      <td>Etobicoke</td>\n      <td>Albion Gardens,Beaumond Heights,Humbergate,Jam...</td>\n      <td>43.739416</td>\n      <td>-79.588437</td>\n    </tr>\n    <tr>\n      <th>4</th>\n      <td>M8W</td>\n      <td>Etobicoke</td>\n      <td>Alderwood,Long Branch</td>\n      <td>43.602414</td>\n      <td>-79.543484</td>\n    </tr>\n  </tbody>\n</table>\n</div>",
            "text/plain": "  PostalCode          Borough  \\\n0        M5H  DowntownToronto   \n1        M1S      Scarborough   \n2        M1V      Scarborough   \n3        M9V        Etobicoke   \n4        M8W        Etobicoke   \n\n                                       Neighbourhood   Latitude  Longitude  \n0                             Adelaide,King,Richmond  43.650571 -79.384568  \n1                                          Agincourt  43.794200 -79.262029  \n2  Agincourt North,L'Amoreaux East,Milliken,Steel...  43.815252 -79.284577  \n3  Albion Gardens,Beaumond Heights,Humbergate,Jam...  43.739416 -79.588437  \n4                              Alderwood,Long Branch  43.602414 -79.543484  "
          },
          "output_type": "execute_result"
        }
      ],
      "source": [
        "sorted_dataframe = sorted_df[new_column_order]\n",
        "sorted_dataframe.head()"
      ]
    },
    {
      "source": [
        "## 2.6. Submit a link to your Notebook on your Github repository. (2 marks)"
      ],
      "cell_type": "markdown",
      "metadata": {
        "id": "Jw1P3LNHuj6f"
      }
    },
    {
      "execution_count": null,
      "cell_type": "code",
      "metadata": {
        "id": "gJs1X_aKuj6f"
      },
      "outputs": [],
      "source": [
        "sorted_dataframe.to_csv('sorted_geoloc.csv')"
      ]
    },
    {
      "source": [
        "This notebook is an assignment for a course on **Coursera** called *Applied Data Science Capstone*, you can take this course online by clicking [here](http://cocl.us/DP0701EN_Coursera_Week3_LAB2)."
      ],
      "cell_type": "markdown",
      "metadata": {
        "id": "hT6gcUjhuj6f"
      }
    }
  ],
  "metadata": {
    "kernelspec": {
      "display_name": "Python 3.5",
      "name": "python3",
      "language": "python"
    },
    "language_info": {
      "mimetype": "text/x-python",
      "nbconvert_exporter": "python",
      "version": "3.5.5",
      "name": "python",
      "file_extension": ".py",
      "pygments_lexer": "ipython3",
      "codemirror_mode": {
        "version": 3,
        "name": "ipython"
      }
    },
    "colab": {
      "provenance": []
    }
  },
  "nbformat": 4
}